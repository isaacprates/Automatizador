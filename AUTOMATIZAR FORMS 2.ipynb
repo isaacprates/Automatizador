{
 "cells": [
  {
   "cell_type": "code",
   "execution_count": 2,
   "id": "429965cc-32df-4a8b-983b-45fd6f77fb22",
   "metadata": {},
   "outputs": [
    {
     "name": "stderr",
     "output_type": "stream",
     "text": [
      "The chromedriver version (129.0.6668.70) detected in PATH at C:\\Users\\isaac\\AppData\\Local\\Programs\\Python\\Python312\\chromedriver.exe might not be compatible with the detected chrome version (130.0.6723.92); currently, chromedriver 130.0.6723.93 is recommended for chrome 130.*, so it is advised to delete the driver in PATH and retry\n",
      "The chromedriver version (129.0.6668.70) detected in PATH at C:\\Users\\isaac\\AppData\\Local\\Programs\\Python\\Python312\\chromedriver.exe might not be compatible with the detected chrome version (130.0.6723.92); currently, chromedriver 130.0.6723.93 is recommended for chrome 130.*, so it is advised to delete the driver in PATH and retry\n",
      "The chromedriver version (129.0.6668.70) detected in PATH at C:\\Users\\isaac\\AppData\\Local\\Programs\\Python\\Python312\\chromedriver.exe might not be compatible with the detected chrome version (130.0.6723.92); currently, chromedriver 130.0.6723.93 is recommended for chrome 130.*, so it is advised to delete the driver in PATH and retry\n",
      "The chromedriver version (129.0.6668.70) detected in PATH at C:\\Users\\isaac\\AppData\\Local\\Programs\\Python\\Python312\\chromedriver.exe might not be compatible with the detected chrome version (130.0.6723.92); currently, chromedriver 130.0.6723.93 is recommended for chrome 130.*, so it is advised to delete the driver in PATH and retry\n",
      "The chromedriver version (129.0.6668.70) detected in PATH at C:\\Users\\isaac\\AppData\\Local\\Programs\\Python\\Python312\\chromedriver.exe might not be compatible with the detected chrome version (130.0.6723.92); currently, chromedriver 130.0.6723.93 is recommended for chrome 130.*, so it is advised to delete the driver in PATH and retry\n",
      "The chromedriver version (129.0.6668.70) detected in PATH at C:\\Users\\isaac\\AppData\\Local\\Programs\\Python\\Python312\\chromedriver.exe might not be compatible with the detected chrome version (130.0.6723.92); currently, chromedriver 130.0.6723.93 is recommended for chrome 130.*, so it is advised to delete the driver in PATH and retry\n",
      "The chromedriver version (129.0.6668.70) detected in PATH at C:\\Users\\isaac\\AppData\\Local\\Programs\\Python\\Python312\\chromedriver.exe might not be compatible with the detected chrome version (130.0.6723.92); currently, chromedriver 130.0.6723.93 is recommended for chrome 130.*, so it is advised to delete the driver in PATH and retry\n",
      "The chromedriver version (129.0.6668.70) detected in PATH at C:\\Users\\isaac\\AppData\\Local\\Programs\\Python\\Python312\\chromedriver.exe might not be compatible with the detected chrome version (130.0.6723.92); currently, chromedriver 130.0.6723.93 is recommended for chrome 130.*, so it is advised to delete the driver in PATH and retry\n",
      "The chromedriver version (129.0.6668.70) detected in PATH at C:\\Users\\isaac\\AppData\\Local\\Programs\\Python\\Python312\\chromedriver.exe might not be compatible with the detected chrome version (130.0.6723.92); currently, chromedriver 130.0.6723.93 is recommended for chrome 130.*, so it is advised to delete the driver in PATH and retry\n",
      "The chromedriver version (129.0.6668.70) detected in PATH at C:\\Users\\isaac\\AppData\\Local\\Programs\\Python\\Python312\\chromedriver.exe might not be compatible with the detected chrome version (130.0.6723.92); currently, chromedriver 130.0.6723.93 is recommended for chrome 130.*, so it is advised to delete the driver in PATH and retry\n",
      "The chromedriver version (129.0.6668.70) detected in PATH at C:\\Users\\isaac\\AppData\\Local\\Programs\\Python\\Python312\\chromedriver.exe might not be compatible with the detected chrome version (130.0.6723.92); currently, chromedriver 130.0.6723.93 is recommended for chrome 130.*, so it is advised to delete the driver in PATH and retry\n",
      "The chromedriver version (129.0.6668.70) detected in PATH at C:\\Users\\isaac\\AppData\\Local\\Programs\\Python\\Python312\\chromedriver.exe might not be compatible with the detected chrome version (130.0.6723.92); currently, chromedriver 130.0.6723.93 is recommended for chrome 130.*, so it is advised to delete the driver in PATH and retry\n",
      "The chromedriver version (129.0.6668.70) detected in PATH at C:\\Users\\isaac\\AppData\\Local\\Programs\\Python\\Python312\\chromedriver.exe might not be compatible with the detected chrome version (130.0.6723.92); currently, chromedriver 130.0.6723.93 is recommended for chrome 130.*, so it is advised to delete the driver in PATH and retry\n",
      "The chromedriver version (129.0.6668.70) detected in PATH at C:\\Users\\isaac\\AppData\\Local\\Programs\\Python\\Python312\\chromedriver.exe might not be compatible with the detected chrome version (130.0.6723.92); currently, chromedriver 130.0.6723.93 is recommended for chrome 130.*, so it is advised to delete the driver in PATH and retry\n",
      "The chromedriver version (129.0.6668.70) detected in PATH at C:\\Users\\isaac\\AppData\\Local\\Programs\\Python\\Python312\\chromedriver.exe might not be compatible with the detected chrome version (130.0.6723.92); currently, chromedriver 130.0.6723.93 is recommended for chrome 130.*, so it is advised to delete the driver in PATH and retry\n",
      "The chromedriver version (129.0.6668.70) detected in PATH at C:\\Users\\isaac\\AppData\\Local\\Programs\\Python\\Python312\\chromedriver.exe might not be compatible with the detected chrome version (130.0.6723.92); currently, chromedriver 130.0.6723.93 is recommended for chrome 130.*, so it is advised to delete the driver in PATH and retry\n",
      "The chromedriver version (129.0.6668.70) detected in PATH at C:\\Users\\isaac\\AppData\\Local\\Programs\\Python\\Python312\\chromedriver.exe might not be compatible with the detected chrome version (130.0.6723.92); currently, chromedriver 130.0.6723.93 is recommended for chrome 130.*, so it is advised to delete the driver in PATH and retry\n",
      "The chromedriver version (129.0.6668.70) detected in PATH at C:\\Users\\isaac\\AppData\\Local\\Programs\\Python\\Python312\\chromedriver.exe might not be compatible with the detected chrome version (130.0.6723.92); currently, chromedriver 130.0.6723.93 is recommended for chrome 130.*, so it is advised to delete the driver in PATH and retry\n",
      "The chromedriver version (129.0.6668.70) detected in PATH at C:\\Users\\isaac\\AppData\\Local\\Programs\\Python\\Python312\\chromedriver.exe might not be compatible with the detected chrome version (130.0.6723.92); currently, chromedriver 130.0.6723.93 is recommended for chrome 130.*, so it is advised to delete the driver in PATH and retry\n",
      "The chromedriver version (129.0.6668.70) detected in PATH at C:\\Users\\isaac\\AppData\\Local\\Programs\\Python\\Python312\\chromedriver.exe might not be compatible with the detected chrome version (130.0.6723.92); currently, chromedriver 130.0.6723.93 is recommended for chrome 130.*, so it is advised to delete the driver in PATH and retry\n",
      "The chromedriver version (129.0.6668.70) detected in PATH at C:\\Users\\isaac\\AppData\\Local\\Programs\\Python\\Python312\\chromedriver.exe might not be compatible with the detected chrome version (130.0.6723.92); currently, chromedriver 130.0.6723.93 is recommended for chrome 130.*, so it is advised to delete the driver in PATH and retry\n",
      "The chromedriver version (129.0.6668.70) detected in PATH at C:\\Users\\isaac\\AppData\\Local\\Programs\\Python\\Python312\\chromedriver.exe might not be compatible with the detected chrome version (130.0.6723.92); currently, chromedriver 130.0.6723.93 is recommended for chrome 130.*, so it is advised to delete the driver in PATH and retry\n",
      "The chromedriver version (129.0.6668.70) detected in PATH at C:\\Users\\isaac\\AppData\\Local\\Programs\\Python\\Python312\\chromedriver.exe might not be compatible with the detected chrome version (130.0.6723.92); currently, chromedriver 130.0.6723.93 is recommended for chrome 130.*, so it is advised to delete the driver in PATH and retry\n",
      "The chromedriver version (129.0.6668.70) detected in PATH at C:\\Users\\isaac\\AppData\\Local\\Programs\\Python\\Python312\\chromedriver.exe might not be compatible with the detected chrome version (130.0.6723.92); currently, chromedriver 130.0.6723.93 is recommended for chrome 130.*, so it is advised to delete the driver in PATH and retry\n",
      "The chromedriver version (129.0.6668.70) detected in PATH at C:\\Users\\isaac\\AppData\\Local\\Programs\\Python\\Python312\\chromedriver.exe might not be compatible with the detected chrome version (130.0.6723.92); currently, chromedriver 130.0.6723.93 is recommended for chrome 130.*, so it is advised to delete the driver in PATH and retry\n",
      "The chromedriver version (129.0.6668.70) detected in PATH at C:\\Users\\isaac\\AppData\\Local\\Programs\\Python\\Python312\\chromedriver.exe might not be compatible with the detected chrome version (130.0.6723.92); currently, chromedriver 130.0.6723.93 is recommended for chrome 130.*, so it is advised to delete the driver in PATH and retry\n",
      "The chromedriver version (129.0.6668.70) detected in PATH at C:\\Users\\isaac\\AppData\\Local\\Programs\\Python\\Python312\\chromedriver.exe might not be compatible with the detected chrome version (130.0.6723.92); currently, chromedriver 130.0.6723.93 is recommended for chrome 130.*, so it is advised to delete the driver in PATH and retry\n",
      "The chromedriver version (129.0.6668.70) detected in PATH at C:\\Users\\isaac\\AppData\\Local\\Programs\\Python\\Python312\\chromedriver.exe might not be compatible with the detected chrome version (130.0.6723.92); currently, chromedriver 130.0.6723.93 is recommended for chrome 130.*, so it is advised to delete the driver in PATH and retry\n",
      "The chromedriver version (129.0.6668.70) detected in PATH at C:\\Users\\isaac\\AppData\\Local\\Programs\\Python\\Python312\\chromedriver.exe might not be compatible with the detected chrome version (130.0.6723.92); currently, chromedriver 130.0.6723.93 is recommended for chrome 130.*, so it is advised to delete the driver in PATH and retry\n",
      "The chromedriver version (129.0.6668.70) detected in PATH at C:\\Users\\isaac\\AppData\\Local\\Programs\\Python\\Python312\\chromedriver.exe might not be compatible with the detected chrome version (130.0.6723.92); currently, chromedriver 130.0.6723.93 is recommended for chrome 130.*, so it is advised to delete the driver in PATH and retry\n",
      "The chromedriver version (129.0.6668.70) detected in PATH at C:\\Users\\isaac\\AppData\\Local\\Programs\\Python\\Python312\\chromedriver.exe might not be compatible with the detected chrome version (130.0.6723.92); currently, chromedriver 130.0.6723.93 is recommended for chrome 130.*, so it is advised to delete the driver in PATH and retry\n",
      "The chromedriver version (129.0.6668.70) detected in PATH at C:\\Users\\isaac\\AppData\\Local\\Programs\\Python\\Python312\\chromedriver.exe might not be compatible with the detected chrome version (130.0.6723.92); currently, chromedriver 130.0.6723.93 is recommended for chrome 130.*, so it is advised to delete the driver in PATH and retry\n"
     ]
    }
   ],
   "source": [
    "import pandas as pd \n",
    "from selenium import webdriver\n",
    "import time\n",
    "from selenium.webdriver.common.by import By\n",
    "from selenium.webdriver.chrome.service import Service\n",
    "from selenium.webdriver.support.ui import WebDriverWait\n",
    "from selenium.webdriver.support import expected_conditions as EC\n",
    "\n",
    "navegador = webdriver.Chrome()\n",
    "\n",
    "tabela = pd.read_excel(\"CPFS (1).xlsx\")\n",
    "\n",
    "for i, cpf in enumerate(tabela[\"CPF\"]):\n",
    "    descricao = tabela.loc[i, \"DESCRICAO\"]\n",
    "\n",
    "    navegador = webdriver.Chrome()  # Novo objeto navegador para cada iteração\n",
    "    navegador.get(\"https://www.igrejacristamaranata.org.br/ebd/participacoes/\")\n",
    "\n",
    "    # Espera até que o elemento de entrada do usuário esteja presente na página\n",
    "    elemento_usuario = WebDriverWait(navegador, 20).until(\n",
    "        EC.presence_of_element_located((By.XPATH, '//*[@id=\"icmEbdNacionalForm\"]/div[2]/div/div[1]/input'))\n",
    "    )\n",
    "    elemento_usuario.send_keys(cpf)\n",
    "\n",
    "    # Clica no botão de participação\n",
    "    navegador.find_element(By.XPATH, '//*[@id=\"icmEbdNacionalForm\"]/div[5]/div/div[1]/input[2]').click()\n",
    "\n",
    "    # Espera até que o campo de mensagem esteja presente na página\n",
    "    elemento_mensagem = WebDriverWait(navegador, 20).until(\n",
    "        EC.presence_of_element_located((By.XPATH, '//*[@id=\"icmEbdNacionalForm\"]/div[5]/div/div[2]/div/div[2]/div[1]/p'))\n",
    "    )\n",
    "    elemento_mensagem.send_keys(descricao)\n",
    "\n",
    "    # Aceita os termos\n",
    "    navegador.find_element(By.XPATH, '//*[@id=\"aceitoOsTermos\"]').click()\n",
    "\n",
    "    # Submete o formulário\n",
    "    navegador.find_element(By.XPATH, '//*[@id=\"icmEbdNacionalForm\"]/button').click()\n",
    "\n",
    "    # Fecha o navegador após cada iteração\n",
    "    time.sleep(4)\n",
    "    navegador.quit()"
   ]
  },
  {
   "cell_type": "code",
   "execution_count": null,
   "id": "ba10b0bd-5b88-4fbc-980c-8c554701f2b1",
   "metadata": {},
   "outputs": [],
   "source": []
  },
  {
   "cell_type": "code",
   "execution_count": null,
   "id": "14ea1479-7a92-4479-9223-36201dd1b640",
   "metadata": {},
   "outputs": [],
   "source": []
  },
  {
   "cell_type": "code",
   "execution_count": null,
   "id": "c6e75e2a-41e0-48dc-b887-9c64eaf080a3",
   "metadata": {},
   "outputs": [],
   "source": []
  },
  {
   "cell_type": "code",
   "execution_count": null,
   "id": "c5a31cc4-0d74-4637-b260-11e67113d7fe",
   "metadata": {},
   "outputs": [],
   "source": []
  },
  {
   "cell_type": "code",
   "execution_count": null,
   "id": "135ca2f2-4330-4789-b756-8f6d0be86cdf",
   "metadata": {},
   "outputs": [],
   "source": []
  }
 ],
 "metadata": {
  "kernelspec": {
   "display_name": "Python 3 (ipykernel)",
   "language": "python",
   "name": "python3"
  },
  "language_info": {
   "codemirror_mode": {
    "name": "ipython",
    "version": 3
   },
   "file_extension": ".py",
   "mimetype": "text/x-python",
   "name": "python",
   "nbconvert_exporter": "python",
   "pygments_lexer": "ipython3",
   "version": "3.12.3"
  }
 },
 "nbformat": 4,
 "nbformat_minor": 5
}
